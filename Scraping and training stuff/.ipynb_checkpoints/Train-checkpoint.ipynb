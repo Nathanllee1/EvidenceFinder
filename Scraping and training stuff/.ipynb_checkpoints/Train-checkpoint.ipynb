{
 "cells": [
  {
   "cell_type": "code",
   "execution_count": 11,
   "metadata": {},
   "outputs": [],
   "source": [
    "from sklearn.ensemble import RandomForestClassifier\n",
    "from sklearn.datasets import make_classification\n",
    "from sklearn.feature_extraction.text import TfidfVectorizer\n",
    "import numpy as np\n",
    "import pandas as pd"
   ]
  },
  {
   "cell_type": "code",
   "execution_count": 17,
   "metadata": {},
   "outputs": [
    {
     "name": "stdout",
     "output_type": "stream",
     "text": [
      "Number of quotes in the training data: 13111\n",
      "Number of quotes in the test data: 3293\n",
      "0          fear death and control    uncertainty and au...\n",
      "1          games computers and virtual reality    leade...\n",
      "3          belonging and connection    self and identit...\n",
      "4          self destruction    character  My cup of sor...\n",
      "6          slavery and sexual exploitation  The influen...\n",
      "7          left tackle protection and shifting strategy...\n",
      "8          religion cynicism and hope  I must toil day ...\n",
      "9          racism prejudice and the american west    gr...\n",
      "10         achievement and mortality    storytelling   ...\n",
      "11         belonging and connection    safety and survi...\n",
      "12         justice revenge and god s will    changes of...\n",
      "13         form and content    typography vs image    t...\n",
      "14         mortality and the nature of existence    lan...\n",
      "15         bias    money and value  The secret was out ...\n",
      "16         coming of age    family    reading and learn...\n",
      "17         identity and isolation    monotony and desen...\n",
      "18         gender roles    love vs lust  There had been...\n",
      "19         memory and survival    family and community ...\n",
      "20         fate time    might vs right  Furthermore  as...\n",
      "22         domesticity and femininity    nature vs nurt...\n",
      "23         belonging and connection    self and identit...\n",
      "24         femininity and male ego    memory imaginatio...\n",
      "25         memory and survival    family and community ...\n",
      "26         social class and identity    mentorship    s...\n",
      "27         redemption and forgiveness   It s not like a...\n",
      "28         politics class and rome    language and name...\n",
      "29         corruption    penance and repentance   You v...\n",
      "31         mercy vs judgment    justice and injustice  ...\n",
      "34         women and feminism    family  Traveling betw...\n",
      "35         chivalry satire medieval life    fate time  ...\n",
      "                               ...                        \n",
      "16363      similarities between all animals    scientif...\n",
      "16364      history of life    understanding complex con...\n",
      "16366      history of life    understanding complex con...\n",
      "16368      history of life    understanding complex con...\n",
      "16369      similarities between all animals    history ...\n",
      "16370      history of life    understanding complex con...\n",
      "16372      faith perseverance and dignity    islam and ...\n",
      "16373      faith perseverance and dignity    human vs n...\n",
      "16374      family community and home    faith persevera...\n",
      "16375      family community and home    faith persevera...\n",
      "16376      crime justice and injustice    human vs natu...\n",
      "16379      family community and home    crime justice a...\n",
      "16380      family community and home    crime justice a...\n",
      "16382      family community and home    human vs natura...\n",
      "16383      quality    rationality and irrationality    ...\n",
      "16388      quality    rationality and irrationality    ...\n",
      "16389      rationality and irrationality  The number of...\n",
      "16390      quality    rationality and irrationality    ...\n",
      "16391      quality    rationality and irrationality  Qu...\n",
      "16392      zen  Mountains should be climbed with as lit...\n",
      "16393      quality    rationality and irrationality    ...\n",
      "16394      quality    duality  This means Quality is no...\n",
      "16395      quality    rationality and irrationality    ...\n",
      "16396      quality    identity    rationality and irrat...\n",
      "16397      quality    zen  There has been a haze  a bac...\n",
      "16398      quality    rationality and irrationality    ...\n",
      "16399      zen  If you re going to repair a motorcycle ...\n",
      "16400      quality    rationality and irrationality    ...\n",
      "16401      quality    identity    duality  I can imitat...\n",
      "16402      identity    duality  For God s sake relieve ...\n",
      "Name: Cleaned, Length: 13111, dtype: object\n"
     ]
    }
   ],
   "source": [
    "df = pd.read_csv('alldata.csv')\n",
    "#select training vs test data\n",
    "df['is_train'] = np.random.uniform(0, 1, len(df)) <= .80\n",
    "train, test = df[df['is_train']==True], df[df['is_train']==False]\n",
    "\n",
    "print('Number of quotes in the training data:', len(train))\n",
    "print('Number of quotes in the test data:',len(test))\n",
    "\n",
    "features = df.columns[:4]\n",
    "features\n",
    "\n",
    "y = train['Boolean']\n",
    "\n",
    "vectorizer = TfidfVectorizer()\n",
    "y = vectorizer.fit_transform(y)\n",
    "\n",
    "\n",
    "x = train['Cleaned']\n",
    "y = vectorizer.fit_transform(x)\n",
    "print(x)\n",
    "\n",
    "#clf = RandomForestClassifier(n_jobs=2, random_state=0)\n",
    "#clf.fit(train['Cleaned'], y)\n"
   ]
  },
  {
   "cell_type": "code",
   "execution_count": null,
   "metadata": {},
   "outputs": [],
   "source": []
  }
 ],
 "metadata": {
  "kernelspec": {
   "display_name": "Python 3",
   "language": "python",
   "name": "python3"
  },
  "language_info": {
   "codemirror_mode": {
    "name": "ipython",
    "version": 3
   },
   "file_extension": ".py",
   "mimetype": "text/x-python",
   "name": "python",
   "nbconvert_exporter": "python",
   "pygments_lexer": "ipython3",
   "version": "3.6.5"
  }
 },
 "nbformat": 4,
 "nbformat_minor": 2
}
