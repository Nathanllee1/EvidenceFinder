{
 "cells": [
  {
   "cell_type": "markdown",
   "metadata": {},
   "source": [
    "# Imports"
   ]
  },
  {
   "cell_type": "code",
   "execution_count": 1,
   "metadata": {},
   "outputs": [],
   "source": [
    "from bs4 import BeautifulSoup\n",
    "import requests\n",
    "import pandas as pd"
   ]
  },
  {
   "cell_type": "markdown",
   "metadata": {},
   "source": [
    "# Open Page"
   ]
  },
  {
   "cell_type": "code",
   "execution_count": 2,
   "metadata": {},
   "outputs": [],
   "source": [
    "page = requests.get(\"https://www.litcharts.com/\")\n",
    "books = BeautifulSoup(page.content, 'html.parser')"
   ]
  },
  {
   "cell_type": "markdown",
   "metadata": {},
   "source": [
    "# Absolute Mess"
   ]
  },
  {
   "cell_type": "code",
   "execution_count": 7,
   "metadata": {
    "scrolled": true
   },
   "outputs": [
    {
     "name": "stdout",
     "output_type": "stream",
     "text": [
      "Found: https://www.litcharts.com/lit/12-years-a-slave/quotes   book number    0 / 791   found 0 quotes\n",
      "Found: https://www.litcharts.com/lit/1776/quotes   book number    1 / 791   found 17 quotes\n",
      "Found: https://www.litcharts.com/lit/1984/quotes   book number    3 / 791   found 41 quotes\n",
      "Found: https://www.litcharts.com/lit/a-and-p/quotes   book number    6 / 791   found 65 quotes\n",
      "Found: https://www.litcharts.com/lit/the-absolutely-true-diary-of-a-part-time-indian/quotes   book number    10 / 791   found 90 quotes\n",
      "Found: https://www.litcharts.com/lit/absurd-person-singular/quotes   book number    15 / 791   found 132 quotes\n",
      "Found: https://www.litcharts.com/lit/an-abundance-of-katherines/quotes   book number    21 / 791   found 177 quotes\n",
      "Found: https://www.litcharts.com/lit/the-adventure-of-the-speckled-band/quotes   book number    28 / 791   found 233 quotes\n",
      "Found: https://www.litcharts.com/lit/the-adventures-of-huckleberry-finn/quotes   book number    36 / 791   found 290 quotes\n",
      "Found: https://www.litcharts.com/lit/the-adventures-of-tom-sawyer/quotes   book number    45 / 791   found 365 quotes\n",
      "Found: https://www.litcharts.com/lit/the-aeneid/quotes   book number    55 / 791   found 440 quotes\n",
      "Found: https://www.litcharts.com/lit/agamemnon/quotes   book number    66 / 791   found 515 quotes\n",
      "Found: https://www.litcharts.com/lit/the-age-of-innocence/quotes   book number    78 / 791   found 595 quotes\n",
      "Found: https://www.litcharts.com/lit/the-alchemist/quotes   book number    91 / 791   found 692 quotes\n",
      "Found: https://www.litcharts.com/lit/alias-grace/quotes   book number    105 / 791   found 793 quotes\n",
      "Found: https://www.litcharts.com/lit/alice-s-adventures-in-wonderland/quotes   book number    120 / 791   found 919 quotes\n",
      "Found: https://www.litcharts.com/lit/all-american-boys/quotes   book number    136 / 791   found 1057 quotes\n",
      "Found: https://www.litcharts.com/lit/all-my-sons/quotes   book number    153 / 791   found 1209 quotes\n",
      "Found: https://www.litcharts.com/lit/all-quiet-on-the-western-front/quotes   book number    171 / 791   found 1364 quotes\n",
      "Found: https://www.litcharts.com/lit/all-summer-in-a-day/quotes   book number    190 / 791   found 1530 quotes\n",
      "Found: https://www.litcharts.com/lit/all-the-king-s-men/quotes   book number    210 / 791   found 1697 quotes\n",
      "Found: https://www.litcharts.com/lit/all-the-light-we-cannot-see/quotes   book number    231 / 791   found 1874 quotes\n",
      "Found: https://www.litcharts.com/lit/all-the-pretty-horses/quotes   book number    253 / 791   found 2075 quotes\n",
      "Found: https://www.litcharts.com/lit/all-s-well-that-ends-well/quotes   book number    276 / 791   found 2280 quotes\n",
      "Found: https://www.litcharts.com/lit/always-running/quotes   book number    300 / 791   found 2497 quotes\n",
      "Found: https://www.litcharts.com/lit/an-american-childhood/quotes   book number    325 / 791   found 2726 quotes\n",
      "Found: https://www.litcharts.com/lit/american-gods/quotes   book number    351 / 791   found 2960 quotes\n",
      "Found: https://www.litcharts.com/lit/an-american-marriage/quotes   book number    378 / 791   found 3213 quotes\n",
      "Found: https://www.litcharts.com/lit/american-psycho/quotes   book number    406 / 791   found 3482 quotes\n",
      "Found: https://www.litcharts.com/lit/american-sniper/quotes   book number    435 / 791   found 3775 quotes\n",
      "Found: https://www.litcharts.com/lit/americanah/quotes   book number    465 / 791   found 4081 quotes\n",
      "Found: https://www.litcharts.com/lit/amusing-ourselves-to-death/quotes   book number    496 / 791   found 4412 quotes\n",
      "Found: https://www.litcharts.com/lit/and-then-there-were-none/quotes   book number    528 / 791   found 4754 quotes\n",
      "Found: https://www.litcharts.com/lit/and-the-mountains-echoed/quotes   book number    561 / 791   found 5113 quotes\n",
      "Found: https://www.litcharts.com/lit/angela-s-ashes/quotes   book number    595 / 791   found 5481 quotes\n",
      "Found: https://www.litcharts.com/lit/angels-in-america/quotes   book number    630 / 791   found 5865 quotes\n",
      "Found: https://www.litcharts.com/lit/animal-farm/quotes   book number    666 / 791   found 6270 quotes\n",
      "Found: https://www.litcharts.com/lit/anna-karenina/quotes   book number    703 / 791   found 6675 quotes\n",
      "Found: https://www.litcharts.com/lit/anthem/quotes   book number    741 / 791   found 7104 quotes\n",
      "Found: https://www.litcharts.com/lit/antigone/quotes   book number    780 / 791   found 7545 quotes\n",
      "Found: https://www.litcharts.com/lit/antony-and-cleopatra/quotes   book number    820 / 791   found 7986 quotes\n",
      "Found: https://www.litcharts.com/lit/araby/quotes   book number    861 / 791   found 8445 quotes\n",
      "Found: https://www.litcharts.com/lit/arcadia/quotes   book number    903 / 791   found 8905 quotes\n",
      "Found: https://www.litcharts.com/lit/arms-and-the-man/quotes   book number    946 / 791   found 9371 quotes\n",
      "Found: https://www.litcharts.com/lit/art/quotes   book number    990 / 791   found 9840 quotes\n",
      "Found: https://www.litcharts.com/lit/the-art-of-racing-in-the-rain/quotes   book number    1035 / 791   found 10315 quotes\n",
      "Found: https://www.litcharts.com/lit/the-art-of-travel/quotes   book number    1081 / 791   found 10810 quotes\n",
      "Found: https://www.litcharts.com/lit/an-artist-of-the-floating-world/quotes   book number    1128 / 791   found 11314 quotes\n",
      "Found: https://www.litcharts.com/lit/as-i-lay-dying/quotes   book number    1176 / 791   found 11822 quotes\n",
      "Found: https://www.litcharts.com/lit/as-you-like-it/quotes   book number    1225 / 791   found 12356 quotes\n",
      "Found: https://www.litcharts.com/lit/atonement/quotes   book number    1275 / 791   found 12904 quotes\n",
      "Found: https://www.litcharts.com/lit/august-osage-county/quotes   book number    1326 / 791   found 13468 quotes\n",
      "Found: https://www.litcharts.com/lit/the-autobiography-of-benjamin-franklin/quotes   book number    1378 / 791   found 14040 quotes\n",
      "Found: https://www.litcharts.com/lit/the-autobiography-of-malcolm-x/quotes   book number    1431 / 791   found 14615 quotes\n",
      "Found: https://www.litcharts.com/lit/autobiography-of-an-ex-colored-man/quotes   book number    1485 / 791   found 15207 quotes\n",
      "Found: https://www.litcharts.com/lit/the-awakening/quotes   book number    1540 / 791   found 15809 quotes\n",
      "Found: https://www.litcharts.com/lit/babylon-revisited/quotes   book number    1596 / 791   found 16431 quotes\n",
      "Found: https://www.litcharts.com/lit/the-bacchae/quotes   book number    1653 / 791   found 17058 quotes\n",
      "Found: https://www.litcharts.com/lit/balzac-and-the-little-chinese-seamstress/quotes   book number    1711 / 791   found 17690 quotes\n",
      "Found: https://www.litcharts.com/lit/barn-burning/quotes   book number    1770 / 791   found 18338 quotes\n",
      "Found: https://www.litcharts.com/lit/bartleby-the-scrivener/quotes   book number    1830 / 791   found 18987 quotes\n",
      "Found: https://www.litcharts.com/lit/the-bean-trees/quotes   book number    1891 / 791   found 19637 quotes\n",
      "Found: https://www.litcharts.com/lit/the-beautiful-and-damned/quotes   book number    1953 / 791   found 20302 quotes\n",
      "Found: https://www.litcharts.com/lit/before-i-fall/quotes   book number    2016 / 791   found 20976 quotes\n",
      "Found: https://www.litcharts.com/lit/behind-the-beautiful-forevers/quotes   book number    2080 / 791   found 21656 quotes\n",
      "Found: https://www.litcharts.com/lit/the-bell-jar/quotes   book number    2145 / 791   found 22352 quotes\n",
      "Found: https://www.litcharts.com/lit/beloved/quotes   book number    2211 / 791   found 23065 quotes\n",
      "Found: https://www.litcharts.com/lit/beowulf/quotes   book number    2278 / 791   found 23793 quotes\n",
      "Found: https://www.litcharts.com/lit/best-seller/quotes   book number    2346 / 791   found 24521 quotes\n",
      "Found: https://www.litcharts.com/lit/the-bet/quotes   book number    2415 / 791   found 25250 quotes\n",
      "Found: https://www.litcharts.com/lit/between-shades-of-gray/quotes   book number    2485 / 791   found 25981 quotes\n",
      "Found: https://www.litcharts.com/lit/between-the-world-and-me/quotes   book number    2556 / 791   found 26736 quotes\n",
      "Found: https://www.litcharts.com/lit/the-bhagavad-gita/quotes   book number    2628 / 791   found 27494 quotes\n",
      "Found: https://www.litcharts.com/lit/billy-budd/quotes   book number    2701 / 791   found 28266 quotes\n",
      "Found: https://www.litcharts.com/lit/billy-lynn-s-long-halftime-walk/quotes   book number    2775 / 791   found 29053 quotes\n"
     ]
    },
    {
     "name": "stdout",
     "output_type": "stream",
     "text": [
      "Found: https://www.litcharts.com/lit/the-birds/quotes   book number    2850 / 791   found 29853 quotes\n",
      "Found: https://www.litcharts.com/lit/the-birthmark/quotes   book number    2926 / 791   found 30654 quotes\n",
      "Found: https://www.litcharts.com/lit/black-boy/quotes   book number    3003 / 791   found 31456 quotes\n",
      "Found: https://www.litcharts.com/lit/black-skin-white-masks/quotes   book number    3081 / 791   found 32272 quotes\n",
      "Found: https://www.litcharts.com/lit/bless-me-ultima/quotes   book number    3160 / 791   found 33097 quotes\n",
      "Found: https://www.litcharts.com/lit/the-blind-side/quotes   book number    3240 / 791   found 33936 quotes\n",
      "Found: https://www.litcharts.com/lit/blink/quotes   book number    3321 / 791   found 34786 quotes\n",
      "Found: https://www.litcharts.com/lit/blood-brothers/quotes   book number    3403 / 791   found 35644 quotes\n",
      "Found: https://www.litcharts.com/lit/blood-meridian/quotes   book number    3486 / 791   found 36504 quotes\n",
      "Found: https://www.litcharts.com/lit/the-bloody-chamber/quotes   book number    3570 / 791   found 37384 quotes\n",
      "Found: https://www.litcharts.com/lit/the-blue-hotel/quotes   book number    3655 / 791   found 38272 quotes\n",
      "Found: https://www.litcharts.com/lit/the-bluest-eye/quotes   book number    3741 / 791   found 39168 quotes\n",
      "Found: https://www.litcharts.com/lit/the-book-thief/quotes   book number    3828 / 791   found 40075 quotes\n",
      "Found: https://www.litcharts.com/lit/the-book-of-unknown-americans/quotes   book number    3916 / 791   found 41005 quotes\n",
      "Found: https://www.litcharts.com/lit/the-boy-who-harnessed-the-wind/quotes   book number    4005 / 791   found 41950 quotes\n",
      "Found: https://www.litcharts.com/lit/the-boy-in-the-striped-pajamas/quotes   book number    4095 / 791   found 42909 quotes\n",
      "Found: https://www.litcharts.com/lit/the-boys-in-the-boat/quotes   book number    4186 / 791   found 43887 quotes\n",
      "Found: https://www.litcharts.com/lit/brain-on-fire-my-month-of-madness/quotes   book number    4278 / 791   found 44880 quotes\n",
      "Found: https://www.litcharts.com/lit/brave-new-world/quotes   book number    4371 / 791   found 45890 quotes\n",
      "Found: https://www.litcharts.com/lit/breaking-night/quotes   book number    4465 / 791   found 46900 quotes\n",
      "Found: https://www.litcharts.com/lit/brick-lane/quotes   book number    4560 / 791   found 47923 quotes\n",
      "Found: https://www.litcharts.com/lit/the-bridge-of-san-luis-rey/quotes   book number    4656 / 791   found 48959 quotes\n",
      "Found: https://www.litcharts.com/lit/a-brief-history-of-seven-killings/quotes   book number    4753 / 791   found 50000 quotes\n",
      "Found: https://www.litcharts.com/lit/the-brief-wondrous-life-of-oscar-wao/quotes   book number    4851 / 791   found 51059 quotes\n",
      "Found: https://www.litcharts.com/lit/brighton-rock/quotes   book number    4950 / 791   found 52128 quotes\n",
      "Found: https://www.litcharts.com/lit/brokeback-mountain/quotes   book number    5050 / 791   found 53199 quotes\n",
      "Found: https://www.litcharts.com/lit/brown-girl-dreaming/quotes   book number    5151 / 791   found 54271 quotes\n",
      "Found: https://www.litcharts.com/lit/the-buddha-of-suburbia/quotes   book number    5253 / 791   found 55348 quotes\n",
      "Found: https://www.litcharts.com/lit/burial-rites/quotes   book number    5356 / 791   found 56439 quotes\n",
      "Found: https://www.litcharts.com/lit/buried-child/quotes   book number    5460 / 791   found 57544 quotes\n",
      "Found: https://www.litcharts.com/lit/bury-my-heart-at-wounded-knee/quotes   book number    5565 / 791   found 58652 quotes\n",
      "Found: https://www.litcharts.com/lit/by-the-waters-of-babylon/quotes   book number    5671 / 791   found 59777 quotes\n",
      "Found: https://www.litcharts.com/lit/the-call-of-the-wild/quotes   book number    5778 / 791   found 60903 quotes\n",
      "Found: https://www.litcharts.com/lit/candide/quotes   book number    5886 / 791   found 62036 quotes\n"
     ]
    },
    {
     "ename": "SSLError",
     "evalue": "HTTPSConnectionPool(host='www.litcharts.com', port=443): Max retries exceeded with url: /lit/all-quiet-on-the-western-front/quotes (Caused by SSLError(SSLError(\"bad handshake: SysCallError(10054, 'WSAECONNRESET')\",),))",
     "output_type": "error",
     "traceback": [
      "\u001b[1;31m---------------------------------------------------------------------------\u001b[0m",
      "\u001b[1;31mSysCallError\u001b[0m                              Traceback (most recent call last)",
      "\u001b[1;32m~\\Anaconda3\\lib\\site-packages\\urllib3\\contrib\\pyopenssl.py\u001b[0m in \u001b[0;36mwrap_socket\u001b[1;34m(self, sock, server_side, do_handshake_on_connect, suppress_ragged_eofs, server_hostname)\u001b[0m\n\u001b[0;32m    440\u001b[0m             \u001b[1;32mtry\u001b[0m\u001b[1;33m:\u001b[0m\u001b[1;33m\u001b[0m\u001b[0m\n\u001b[1;32m--> 441\u001b[1;33m                 \u001b[0mcnx\u001b[0m\u001b[1;33m.\u001b[0m\u001b[0mdo_handshake\u001b[0m\u001b[1;33m(\u001b[0m\u001b[1;33m)\u001b[0m\u001b[1;33m\u001b[0m\u001b[0m\n\u001b[0m\u001b[0;32m    442\u001b[0m             \u001b[1;32mexcept\u001b[0m \u001b[0mOpenSSL\u001b[0m\u001b[1;33m.\u001b[0m\u001b[0mSSL\u001b[0m\u001b[1;33m.\u001b[0m\u001b[0mWantReadError\u001b[0m\u001b[1;33m:\u001b[0m\u001b[1;33m\u001b[0m\u001b[0m\n",
      "\u001b[1;32m~\\Anaconda3\\lib\\site-packages\\OpenSSL\\SSL.py\u001b[0m in \u001b[0;36mdo_handshake\u001b[1;34m(self)\u001b[0m\n\u001b[0;32m   1906\u001b[0m         \u001b[0mresult\u001b[0m \u001b[1;33m=\u001b[0m \u001b[0m_lib\u001b[0m\u001b[1;33m.\u001b[0m\u001b[0mSSL_do_handshake\u001b[0m\u001b[1;33m(\u001b[0m\u001b[0mself\u001b[0m\u001b[1;33m.\u001b[0m\u001b[0m_ssl\u001b[0m\u001b[1;33m)\u001b[0m\u001b[1;33m\u001b[0m\u001b[0m\n\u001b[1;32m-> 1907\u001b[1;33m         \u001b[0mself\u001b[0m\u001b[1;33m.\u001b[0m\u001b[0m_raise_ssl_error\u001b[0m\u001b[1;33m(\u001b[0m\u001b[0mself\u001b[0m\u001b[1;33m.\u001b[0m\u001b[0m_ssl\u001b[0m\u001b[1;33m,\u001b[0m \u001b[0mresult\u001b[0m\u001b[1;33m)\u001b[0m\u001b[1;33m\u001b[0m\u001b[0m\n\u001b[0m\u001b[0;32m   1908\u001b[0m \u001b[1;33m\u001b[0m\u001b[0m\n",
      "\u001b[1;32m~\\Anaconda3\\lib\\site-packages\\OpenSSL\\SSL.py\u001b[0m in \u001b[0;36m_raise_ssl_error\u001b[1;34m(self, ssl, result)\u001b[0m\n\u001b[0;32m   1630\u001b[0m                     \u001b[1;32mif\u001b[0m \u001b[0merrno\u001b[0m \u001b[1;33m!=\u001b[0m \u001b[1;36m0\u001b[0m\u001b[1;33m:\u001b[0m\u001b[1;33m\u001b[0m\u001b[0m\n\u001b[1;32m-> 1631\u001b[1;33m                         \u001b[1;32mraise\u001b[0m \u001b[0mSysCallError\u001b[0m\u001b[1;33m(\u001b[0m\u001b[0merrno\u001b[0m\u001b[1;33m,\u001b[0m \u001b[0merrorcode\u001b[0m\u001b[1;33m.\u001b[0m\u001b[0mget\u001b[0m\u001b[1;33m(\u001b[0m\u001b[0merrno\u001b[0m\u001b[1;33m)\u001b[0m\u001b[1;33m)\u001b[0m\u001b[1;33m\u001b[0m\u001b[0m\n\u001b[0m\u001b[0;32m   1632\u001b[0m                 \u001b[1;32mraise\u001b[0m \u001b[0mSysCallError\u001b[0m\u001b[1;33m(\u001b[0m\u001b[1;33m-\u001b[0m\u001b[1;36m1\u001b[0m\u001b[1;33m,\u001b[0m \u001b[1;34m\"Unexpected EOF\"\u001b[0m\u001b[1;33m)\u001b[0m\u001b[1;33m\u001b[0m\u001b[0m\n",
      "\u001b[1;31mSysCallError\u001b[0m: (10054, 'WSAECONNRESET')",
      "\nDuring handling of the above exception, another exception occurred:\n",
      "\u001b[1;31mSSLError\u001b[0m                                  Traceback (most recent call last)",
      "\u001b[1;32m~\\Anaconda3\\lib\\site-packages\\urllib3\\connectionpool.py\u001b[0m in \u001b[0;36murlopen\u001b[1;34m(self, method, url, body, headers, retries, redirect, assert_same_host, timeout, pool_timeout, release_conn, chunked, body_pos, **response_kw)\u001b[0m\n\u001b[0;32m    600\u001b[0m                                                   \u001b[0mbody\u001b[0m\u001b[1;33m=\u001b[0m\u001b[0mbody\u001b[0m\u001b[1;33m,\u001b[0m \u001b[0mheaders\u001b[0m\u001b[1;33m=\u001b[0m\u001b[0mheaders\u001b[0m\u001b[1;33m,\u001b[0m\u001b[1;33m\u001b[0m\u001b[0m\n\u001b[1;32m--> 601\u001b[1;33m                                                   chunked=chunked)\n\u001b[0m\u001b[0;32m    602\u001b[0m \u001b[1;33m\u001b[0m\u001b[0m\n",
      "\u001b[1;32m~\\Anaconda3\\lib\\site-packages\\urllib3\\connectionpool.py\u001b[0m in \u001b[0;36m_make_request\u001b[1;34m(self, conn, method, url, timeout, chunked, **httplib_request_kw)\u001b[0m\n\u001b[0;32m    345\u001b[0m         \u001b[1;32mtry\u001b[0m\u001b[1;33m:\u001b[0m\u001b[1;33m\u001b[0m\u001b[0m\n\u001b[1;32m--> 346\u001b[1;33m             \u001b[0mself\u001b[0m\u001b[1;33m.\u001b[0m\u001b[0m_validate_conn\u001b[0m\u001b[1;33m(\u001b[0m\u001b[0mconn\u001b[0m\u001b[1;33m)\u001b[0m\u001b[1;33m\u001b[0m\u001b[0m\n\u001b[0m\u001b[0;32m    347\u001b[0m         \u001b[1;32mexcept\u001b[0m \u001b[1;33m(\u001b[0m\u001b[0mSocketTimeout\u001b[0m\u001b[1;33m,\u001b[0m \u001b[0mBaseSSLError\u001b[0m\u001b[1;33m)\u001b[0m \u001b[1;32mas\u001b[0m \u001b[0me\u001b[0m\u001b[1;33m:\u001b[0m\u001b[1;33m\u001b[0m\u001b[0m\n",
      "\u001b[1;32m~\\Anaconda3\\lib\\site-packages\\urllib3\\connectionpool.py\u001b[0m in \u001b[0;36m_validate_conn\u001b[1;34m(self, conn)\u001b[0m\n\u001b[0;32m    849\u001b[0m         \u001b[1;32mif\u001b[0m \u001b[1;32mnot\u001b[0m \u001b[0mgetattr\u001b[0m\u001b[1;33m(\u001b[0m\u001b[0mconn\u001b[0m\u001b[1;33m,\u001b[0m \u001b[1;34m'sock'\u001b[0m\u001b[1;33m,\u001b[0m \u001b[1;32mNone\u001b[0m\u001b[1;33m)\u001b[0m\u001b[1;33m:\u001b[0m  \u001b[1;31m# AppEngine might not have  `.sock`\u001b[0m\u001b[1;33m\u001b[0m\u001b[0m\n\u001b[1;32m--> 850\u001b[1;33m             \u001b[0mconn\u001b[0m\u001b[1;33m.\u001b[0m\u001b[0mconnect\u001b[0m\u001b[1;33m(\u001b[0m\u001b[1;33m)\u001b[0m\u001b[1;33m\u001b[0m\u001b[0m\n\u001b[0m\u001b[0;32m    851\u001b[0m \u001b[1;33m\u001b[0m\u001b[0m\n",
      "\u001b[1;32m~\\Anaconda3\\lib\\site-packages\\urllib3\\connection.py\u001b[0m in \u001b[0;36mconnect\u001b[1;34m(self)\u001b[0m\n\u001b[0;32m    325\u001b[0m             \u001b[0mserver_hostname\u001b[0m\u001b[1;33m=\u001b[0m\u001b[0mhostname\u001b[0m\u001b[1;33m,\u001b[0m\u001b[1;33m\u001b[0m\u001b[0m\n\u001b[1;32m--> 326\u001b[1;33m             ssl_context=context)\n\u001b[0m\u001b[0;32m    327\u001b[0m \u001b[1;33m\u001b[0m\u001b[0m\n",
      "\u001b[1;32m~\\Anaconda3\\lib\\site-packages\\urllib3\\util\\ssl_.py\u001b[0m in \u001b[0;36mssl_wrap_socket\u001b[1;34m(sock, keyfile, certfile, cert_reqs, ca_certs, server_hostname, ssl_version, ciphers, ssl_context, ca_cert_dir)\u001b[0m\n\u001b[0;32m    328\u001b[0m     \u001b[1;32mif\u001b[0m \u001b[0mHAS_SNI\u001b[0m\u001b[1;33m:\u001b[0m  \u001b[1;31m# Platform-specific: OpenSSL with enabled SNI\u001b[0m\u001b[1;33m\u001b[0m\u001b[0m\n\u001b[1;32m--> 329\u001b[1;33m         \u001b[1;32mreturn\u001b[0m \u001b[0mcontext\u001b[0m\u001b[1;33m.\u001b[0m\u001b[0mwrap_socket\u001b[0m\u001b[1;33m(\u001b[0m\u001b[0msock\u001b[0m\u001b[1;33m,\u001b[0m \u001b[0mserver_hostname\u001b[0m\u001b[1;33m=\u001b[0m\u001b[0mserver_hostname\u001b[0m\u001b[1;33m)\u001b[0m\u001b[1;33m\u001b[0m\u001b[0m\n\u001b[0m\u001b[0;32m    330\u001b[0m \u001b[1;33m\u001b[0m\u001b[0m\n",
      "\u001b[1;32m~\\Anaconda3\\lib\\site-packages\\urllib3\\contrib\\pyopenssl.py\u001b[0m in \u001b[0;36mwrap_socket\u001b[1;34m(self, sock, server_side, do_handshake_on_connect, suppress_ragged_eofs, server_hostname)\u001b[0m\n\u001b[0;32m    447\u001b[0m             \u001b[1;32mexcept\u001b[0m \u001b[0mOpenSSL\u001b[0m\u001b[1;33m.\u001b[0m\u001b[0mSSL\u001b[0m\u001b[1;33m.\u001b[0m\u001b[0mError\u001b[0m \u001b[1;32mas\u001b[0m \u001b[0me\u001b[0m\u001b[1;33m:\u001b[0m\u001b[1;33m\u001b[0m\u001b[0m\n\u001b[1;32m--> 448\u001b[1;33m                 \u001b[1;32mraise\u001b[0m \u001b[0mssl\u001b[0m\u001b[1;33m.\u001b[0m\u001b[0mSSLError\u001b[0m\u001b[1;33m(\u001b[0m\u001b[1;34m'bad handshake: %r'\u001b[0m \u001b[1;33m%\u001b[0m \u001b[0me\u001b[0m\u001b[1;33m)\u001b[0m\u001b[1;33m\u001b[0m\u001b[0m\n\u001b[0m\u001b[0;32m    449\u001b[0m             \u001b[1;32mbreak\u001b[0m\u001b[1;33m\u001b[0m\u001b[0m\n",
      "\u001b[1;31mSSLError\u001b[0m: (\"bad handshake: SysCallError(10054, 'WSAECONNRESET')\",)",
      "\nDuring handling of the above exception, another exception occurred:\n",
      "\u001b[1;31mMaxRetryError\u001b[0m                             Traceback (most recent call last)",
      "\u001b[1;32m~\\Anaconda3\\lib\\site-packages\\requests\\adapters.py\u001b[0m in \u001b[0;36msend\u001b[1;34m(self, request, stream, timeout, verify, cert, proxies)\u001b[0m\n\u001b[0;32m    439\u001b[0m                     \u001b[0mretries\u001b[0m\u001b[1;33m=\u001b[0m\u001b[0mself\u001b[0m\u001b[1;33m.\u001b[0m\u001b[0mmax_retries\u001b[0m\u001b[1;33m,\u001b[0m\u001b[1;33m\u001b[0m\u001b[0m\n\u001b[1;32m--> 440\u001b[1;33m                     \u001b[0mtimeout\u001b[0m\u001b[1;33m=\u001b[0m\u001b[0mtimeout\u001b[0m\u001b[1;33m\u001b[0m\u001b[0m\n\u001b[0m\u001b[0;32m    441\u001b[0m                 )\n",
      "\u001b[1;32m~\\Anaconda3\\lib\\site-packages\\urllib3\\connectionpool.py\u001b[0m in \u001b[0;36murlopen\u001b[1;34m(self, method, url, body, headers, retries, redirect, assert_same_host, timeout, pool_timeout, release_conn, chunked, body_pos, **response_kw)\u001b[0m\n\u001b[0;32m    638\u001b[0m             retries = retries.increment(method, url, error=e, _pool=self,\n\u001b[1;32m--> 639\u001b[1;33m                                         _stacktrace=sys.exc_info()[2])\n\u001b[0m\u001b[0;32m    640\u001b[0m             \u001b[0mretries\u001b[0m\u001b[1;33m.\u001b[0m\u001b[0msleep\u001b[0m\u001b[1;33m(\u001b[0m\u001b[1;33m)\u001b[0m\u001b[1;33m\u001b[0m\u001b[0m\n",
      "\u001b[1;32m~\\Anaconda3\\lib\\site-packages\\urllib3\\util\\retry.py\u001b[0m in \u001b[0;36mincrement\u001b[1;34m(self, method, url, response, error, _pool, _stacktrace)\u001b[0m\n\u001b[0;32m    387\u001b[0m         \u001b[1;32mif\u001b[0m \u001b[0mnew_retry\u001b[0m\u001b[1;33m.\u001b[0m\u001b[0mis_exhausted\u001b[0m\u001b[1;33m(\u001b[0m\u001b[1;33m)\u001b[0m\u001b[1;33m:\u001b[0m\u001b[1;33m\u001b[0m\u001b[0m\n\u001b[1;32m--> 388\u001b[1;33m             \u001b[1;32mraise\u001b[0m \u001b[0mMaxRetryError\u001b[0m\u001b[1;33m(\u001b[0m\u001b[0m_pool\u001b[0m\u001b[1;33m,\u001b[0m \u001b[0murl\u001b[0m\u001b[1;33m,\u001b[0m \u001b[0merror\u001b[0m \u001b[1;32mor\u001b[0m \u001b[0mResponseError\u001b[0m\u001b[1;33m(\u001b[0m\u001b[0mcause\u001b[0m\u001b[1;33m)\u001b[0m\u001b[1;33m)\u001b[0m\u001b[1;33m\u001b[0m\u001b[0m\n\u001b[0m\u001b[0;32m    389\u001b[0m \u001b[1;33m\u001b[0m\u001b[0m\n",
      "\u001b[1;31mMaxRetryError\u001b[0m: HTTPSConnectionPool(host='www.litcharts.com', port=443): Max retries exceeded with url: /lit/all-quiet-on-the-western-front/quotes (Caused by SSLError(SSLError(\"bad handshake: SysCallError(10054, 'WSAECONNRESET')\",),))",
      "\nDuring handling of the above exception, another exception occurred:\n",
      "\u001b[1;31mSSLError\u001b[0m                                  Traceback (most recent call last)",
      "\u001b[1;32m<ipython-input-7-6e4f9a4d86f7>\u001b[0m in \u001b[0;36m<module>\u001b[1;34m()\u001b[0m\n\u001b[0;32m     15\u001b[0m     \u001b[1;32mfor\u001b[0m \u001b[0mlinks\u001b[0m \u001b[1;32min\u001b[0m \u001b[0mbook_link\u001b[0m\u001b[1;33m:\u001b[0m\u001b[1;33m\u001b[0m\u001b[0m\n\u001b[0;32m     16\u001b[0m         \u001b[0mbook_counter\u001b[0m \u001b[1;33m+=\u001b[0m \u001b[1;36m1\u001b[0m\u001b[1;33m\u001b[0m\u001b[0m\n\u001b[1;32m---> 17\u001b[1;33m         \u001b[0mquote_page_request\u001b[0m \u001b[1;33m=\u001b[0m \u001b[0mrequests\u001b[0m\u001b[1;33m.\u001b[0m\u001b[0mget\u001b[0m\u001b[1;33m(\u001b[0m\u001b[0mstr\u001b[0m\u001b[1;33m(\u001b[0m\u001b[0mlinks\u001b[0m\u001b[1;33m)\u001b[0m\u001b[1;33m)\u001b[0m\u001b[1;33m\u001b[0m\u001b[0m\n\u001b[0m\u001b[0;32m     18\u001b[0m         \u001b[0mquote_page\u001b[0m \u001b[1;33m=\u001b[0m \u001b[0mBeautifulSoup\u001b[0m\u001b[1;33m(\u001b[0m\u001b[0mquote_page_request\u001b[0m\u001b[1;33m.\u001b[0m\u001b[0mcontent\u001b[0m\u001b[1;33m,\u001b[0m \u001b[1;34m'html.parser'\u001b[0m\u001b[1;33m)\u001b[0m\u001b[1;33m\u001b[0m\u001b[0m\n\u001b[0;32m     19\u001b[0m \u001b[1;33m\u001b[0m\u001b[0m\n",
      "\u001b[1;32m~\\Anaconda3\\lib\\site-packages\\requests\\api.py\u001b[0m in \u001b[0;36mget\u001b[1;34m(url, params, **kwargs)\u001b[0m\n\u001b[0;32m     70\u001b[0m \u001b[1;33m\u001b[0m\u001b[0m\n\u001b[0;32m     71\u001b[0m     \u001b[0mkwargs\u001b[0m\u001b[1;33m.\u001b[0m\u001b[0msetdefault\u001b[0m\u001b[1;33m(\u001b[0m\u001b[1;34m'allow_redirects'\u001b[0m\u001b[1;33m,\u001b[0m \u001b[1;32mTrue\u001b[0m\u001b[1;33m)\u001b[0m\u001b[1;33m\u001b[0m\u001b[0m\n\u001b[1;32m---> 72\u001b[1;33m     \u001b[1;32mreturn\u001b[0m \u001b[0mrequest\u001b[0m\u001b[1;33m(\u001b[0m\u001b[1;34m'get'\u001b[0m\u001b[1;33m,\u001b[0m \u001b[0murl\u001b[0m\u001b[1;33m,\u001b[0m \u001b[0mparams\u001b[0m\u001b[1;33m=\u001b[0m\u001b[0mparams\u001b[0m\u001b[1;33m,\u001b[0m \u001b[1;33m**\u001b[0m\u001b[0mkwargs\u001b[0m\u001b[1;33m)\u001b[0m\u001b[1;33m\u001b[0m\u001b[0m\n\u001b[0m\u001b[0;32m     73\u001b[0m \u001b[1;33m\u001b[0m\u001b[0m\n\u001b[0;32m     74\u001b[0m \u001b[1;33m\u001b[0m\u001b[0m\n",
      "\u001b[1;32m~\\Anaconda3\\lib\\site-packages\\requests\\api.py\u001b[0m in \u001b[0;36mrequest\u001b[1;34m(method, url, **kwargs)\u001b[0m\n\u001b[0;32m     56\u001b[0m     \u001b[1;31m# cases, and look like a memory leak in others.\u001b[0m\u001b[1;33m\u001b[0m\u001b[1;33m\u001b[0m\u001b[0m\n\u001b[0;32m     57\u001b[0m     \u001b[1;32mwith\u001b[0m \u001b[0msessions\u001b[0m\u001b[1;33m.\u001b[0m\u001b[0mSession\u001b[0m\u001b[1;33m(\u001b[0m\u001b[1;33m)\u001b[0m \u001b[1;32mas\u001b[0m \u001b[0msession\u001b[0m\u001b[1;33m:\u001b[0m\u001b[1;33m\u001b[0m\u001b[0m\n\u001b[1;32m---> 58\u001b[1;33m         \u001b[1;32mreturn\u001b[0m \u001b[0msession\u001b[0m\u001b[1;33m.\u001b[0m\u001b[0mrequest\u001b[0m\u001b[1;33m(\u001b[0m\u001b[0mmethod\u001b[0m\u001b[1;33m=\u001b[0m\u001b[0mmethod\u001b[0m\u001b[1;33m,\u001b[0m \u001b[0murl\u001b[0m\u001b[1;33m=\u001b[0m\u001b[0murl\u001b[0m\u001b[1;33m,\u001b[0m \u001b[1;33m**\u001b[0m\u001b[0mkwargs\u001b[0m\u001b[1;33m)\u001b[0m\u001b[1;33m\u001b[0m\u001b[0m\n\u001b[0m\u001b[0;32m     59\u001b[0m \u001b[1;33m\u001b[0m\u001b[0m\n\u001b[0;32m     60\u001b[0m \u001b[1;33m\u001b[0m\u001b[0m\n",
      "\u001b[1;32m~\\Anaconda3\\lib\\site-packages\\requests\\sessions.py\u001b[0m in \u001b[0;36mrequest\u001b[1;34m(self, method, url, params, data, headers, cookies, files, auth, timeout, allow_redirects, proxies, hooks, stream, verify, cert, json)\u001b[0m\n\u001b[0;32m    506\u001b[0m         }\n\u001b[0;32m    507\u001b[0m         \u001b[0msend_kwargs\u001b[0m\u001b[1;33m.\u001b[0m\u001b[0mupdate\u001b[0m\u001b[1;33m(\u001b[0m\u001b[0msettings\u001b[0m\u001b[1;33m)\u001b[0m\u001b[1;33m\u001b[0m\u001b[0m\n\u001b[1;32m--> 508\u001b[1;33m         \u001b[0mresp\u001b[0m \u001b[1;33m=\u001b[0m \u001b[0mself\u001b[0m\u001b[1;33m.\u001b[0m\u001b[0msend\u001b[0m\u001b[1;33m(\u001b[0m\u001b[0mprep\u001b[0m\u001b[1;33m,\u001b[0m \u001b[1;33m**\u001b[0m\u001b[0msend_kwargs\u001b[0m\u001b[1;33m)\u001b[0m\u001b[1;33m\u001b[0m\u001b[0m\n\u001b[0m\u001b[0;32m    509\u001b[0m \u001b[1;33m\u001b[0m\u001b[0m\n\u001b[0;32m    510\u001b[0m         \u001b[1;32mreturn\u001b[0m \u001b[0mresp\u001b[0m\u001b[1;33m\u001b[0m\u001b[0m\n",
      "\u001b[1;32m~\\Anaconda3\\lib\\site-packages\\requests\\sessions.py\u001b[0m in \u001b[0;36msend\u001b[1;34m(self, request, **kwargs)\u001b[0m\n\u001b[0;32m    616\u001b[0m \u001b[1;33m\u001b[0m\u001b[0m\n\u001b[0;32m    617\u001b[0m         \u001b[1;31m# Send the request\u001b[0m\u001b[1;33m\u001b[0m\u001b[1;33m\u001b[0m\u001b[0m\n\u001b[1;32m--> 618\u001b[1;33m         \u001b[0mr\u001b[0m \u001b[1;33m=\u001b[0m \u001b[0madapter\u001b[0m\u001b[1;33m.\u001b[0m\u001b[0msend\u001b[0m\u001b[1;33m(\u001b[0m\u001b[0mrequest\u001b[0m\u001b[1;33m,\u001b[0m \u001b[1;33m**\u001b[0m\u001b[0mkwargs\u001b[0m\u001b[1;33m)\u001b[0m\u001b[1;33m\u001b[0m\u001b[0m\n\u001b[0m\u001b[0;32m    619\u001b[0m \u001b[1;33m\u001b[0m\u001b[0m\n\u001b[0;32m    620\u001b[0m         \u001b[1;31m# Total elapsed time of the request (approximately)\u001b[0m\u001b[1;33m\u001b[0m\u001b[1;33m\u001b[0m\u001b[0m\n",
      "\u001b[1;32m~\\Anaconda3\\lib\\site-packages\\requests\\adapters.py\u001b[0m in \u001b[0;36msend\u001b[1;34m(self, request, stream, timeout, verify, cert, proxies)\u001b[0m\n\u001b[0;32m    504\u001b[0m             \u001b[1;32mif\u001b[0m \u001b[0misinstance\u001b[0m\u001b[1;33m(\u001b[0m\u001b[0me\u001b[0m\u001b[1;33m.\u001b[0m\u001b[0mreason\u001b[0m\u001b[1;33m,\u001b[0m \u001b[0m_SSLError\u001b[0m\u001b[1;33m)\u001b[0m\u001b[1;33m:\u001b[0m\u001b[1;33m\u001b[0m\u001b[0m\n\u001b[0;32m    505\u001b[0m                 \u001b[1;31m# This branch is for urllib3 v1.22 and later.\u001b[0m\u001b[1;33m\u001b[0m\u001b[1;33m\u001b[0m\u001b[0m\n\u001b[1;32m--> 506\u001b[1;33m                 \u001b[1;32mraise\u001b[0m \u001b[0mSSLError\u001b[0m\u001b[1;33m(\u001b[0m\u001b[0me\u001b[0m\u001b[1;33m,\u001b[0m \u001b[0mrequest\u001b[0m\u001b[1;33m=\u001b[0m\u001b[0mrequest\u001b[0m\u001b[1;33m)\u001b[0m\u001b[1;33m\u001b[0m\u001b[0m\n\u001b[0m\u001b[0;32m    507\u001b[0m \u001b[1;33m\u001b[0m\u001b[0m\n\u001b[0;32m    508\u001b[0m             \u001b[1;32mraise\u001b[0m \u001b[0mConnectionError\u001b[0m\u001b[1;33m(\u001b[0m\u001b[0me\u001b[0m\u001b[1;33m,\u001b[0m \u001b[0mrequest\u001b[0m\u001b[1;33m=\u001b[0m\u001b[0mrequest\u001b[0m\u001b[1;33m)\u001b[0m\u001b[1;33m\u001b[0m\u001b[0m\n",
      "\u001b[1;31mSSLError\u001b[0m: HTTPSConnectionPool(host='www.litcharts.com', port=443): Max retries exceeded with url: /lit/all-quiet-on-the-western-front/quotes (Caused by SSLError(SSLError(\"bad handshake: SysCallError(10054, 'WSAECONNRESET')\",),))"
     ]
    }
   ],
   "source": [
    "book_link = []\n",
    "quotetheme = {}\n",
    "book_counter = 0\n",
    "quote_counter = 0\n",
    "\n",
    "#Find books\n",
    "for book in books.find_all(class_='book hoverable', href=True):\n",
    "    \n",
    "    #make into a real url\n",
    "    book_url = 'https://www.litcharts.com' + book['href'] + '/quotes'\n",
    "    book_link.append(book_url)\n",
    "    print('Found: ' + book_url + '   book number    ' + str(book_counter) + ' / 791   found ' + str(quote_counter) + ' quotes')\n",
    "    \n",
    "    #Open quotepage\n",
    "    for links in book_link:\n",
    "        book_counter += 1\n",
    "        quote_page_request = requests.get(str(links))\n",
    "        quote_page = BeautifulSoup(quote_page_request.content, 'html.parser')\n",
    "        \n",
    "        #Find quotes and themes\n",
    "        for quoteblock in quote_page.find_all(class_='summary-section list-group'):\n",
    "            if quoteblock.find(class_='quote-text') and quoteblock.find(class_='list-group-item quote') is not None:\n",
    "                quote_ = quoteblock.find(class_='quote-text')\n",
    "                quote = str(quote_.get_text())\n",
    "\n",
    "                theme = quoteblock.find(class_='list-group-item quote').attrs['data-themes']\n",
    "                quotetheme.update({quote : theme})\n",
    "                quote_counter += 1\n",
    "            "
   ]
  },
  {
   "cell_type": "code",
   "execution_count": 15,
   "metadata": {},
   "outputs": [
    {
     "ename": "AttributeError",
     "evalue": "'str' object has no attribute 'columns'",
     "output_type": "error",
     "traceback": [
      "\u001b[1;31m---------------------------------------------------------------------------\u001b[0m",
      "\u001b[1;31mAttributeError\u001b[0m                            Traceback (most recent call last)",
      "\u001b[1;32m<ipython-input-15-e9ab4cfce1da>\u001b[0m in \u001b[0;36m<module>\u001b[1;34m()\u001b[0m\n\u001b[0;32m      1\u001b[0m \u001b[1;33m\u001b[0m\u001b[0m\n\u001b[0;32m      2\u001b[0m \u001b[0mdataframe\u001b[0m \u001b[1;33m=\u001b[0m \u001b[0mpd\u001b[0m\u001b[1;33m.\u001b[0m\u001b[0mDataFrame\u001b[0m\u001b[1;33m.\u001b[0m\u001b[0mfrom_dict\u001b[0m\u001b[1;33m(\u001b[0m\u001b[0mquotetheme\u001b[0m\u001b[1;33m,\u001b[0m \u001b[0morient\u001b[0m\u001b[1;33m=\u001b[0m\u001b[1;34m'index'\u001b[0m\u001b[1;33m)\u001b[0m\u001b[1;33m\u001b[0m\u001b[0m\n\u001b[1;32m----> 3\u001b[1;33m \u001b[0mpd\u001b[0m\u001b[1;33m.\u001b[0m\u001b[0mDataFrame\u001b[0m\u001b[1;33m.\u001b[0m\u001b[0mto_csv\u001b[0m\u001b[1;33m(\u001b[0m\u001b[1;34m'quotes.csv'\u001b[0m\u001b[1;33m,\u001b[0m \u001b[0mencoding\u001b[0m\u001b[1;33m=\u001b[0m\u001b[1;34m'utf-8'\u001b[0m\u001b[1;33m,\u001b[0m \u001b[0mindex\u001b[0m\u001b[1;33m=\u001b[0m\u001b[1;32mFalse\u001b[0m\u001b[1;33m)\u001b[0m\u001b[1;33m\u001b[0m\u001b[0m\n\u001b[0m\u001b[0;32m      4\u001b[0m \u001b[0mdataframe\u001b[0m\u001b[1;33m\u001b[0m\u001b[0m\n",
      "\u001b[1;32m~\\Anaconda3\\lib\\site-packages\\pandas\\core\\frame.py\u001b[0m in \u001b[0;36mto_csv\u001b[1;34m(self, path_or_buf, sep, na_rep, float_format, columns, header, index, index_label, mode, encoding, compression, quoting, quotechar, line_terminator, chunksize, tupleize_cols, date_format, doublequote, escapechar, decimal)\u001b[0m\n\u001b[0;32m   1742\u001b[0m                                  \u001b[0mdate_format\u001b[0m\u001b[1;33m=\u001b[0m\u001b[0mdate_format\u001b[0m\u001b[1;33m,\u001b[0m\u001b[1;33m\u001b[0m\u001b[0m\n\u001b[0;32m   1743\u001b[0m                                  \u001b[0mdoublequote\u001b[0m\u001b[1;33m=\u001b[0m\u001b[0mdoublequote\u001b[0m\u001b[1;33m,\u001b[0m\u001b[1;33m\u001b[0m\u001b[0m\n\u001b[1;32m-> 1744\u001b[1;33m                                  escapechar=escapechar, decimal=decimal)\n\u001b[0m\u001b[0;32m   1745\u001b[0m         \u001b[0mformatter\u001b[0m\u001b[1;33m.\u001b[0m\u001b[0msave\u001b[0m\u001b[1;33m(\u001b[0m\u001b[1;33m)\u001b[0m\u001b[1;33m\u001b[0m\u001b[0m\n\u001b[0;32m   1746\u001b[0m \u001b[1;33m\u001b[0m\u001b[0m\n",
      "\u001b[1;32m~\\Anaconda3\\lib\\site-packages\\pandas\\io\\formats\\csvs.py\u001b[0m in \u001b[0;36m__init__\u001b[1;34m(self, obj, path_or_buf, sep, na_rep, float_format, cols, header, index, index_label, mode, nanRep, encoding, compression, quoting, line_terminator, chunksize, tupleize_cols, quotechar, date_format, doublequote, escapechar, decimal)\u001b[0m\n\u001b[0;32m     66\u001b[0m \u001b[1;33m\u001b[0m\u001b[0m\n\u001b[0;32m     67\u001b[0m         \u001b[0mself\u001b[0m\u001b[1;33m.\u001b[0m\u001b[0mtupleize_cols\u001b[0m \u001b[1;33m=\u001b[0m \u001b[0mtupleize_cols\u001b[0m\u001b[1;33m\u001b[0m\u001b[0m\n\u001b[1;32m---> 68\u001b[1;33m         self.has_mi_columns = (isinstance(obj.columns, MultiIndex) and\n\u001b[0m\u001b[0;32m     69\u001b[0m                                not self.tupleize_cols)\n\u001b[0;32m     70\u001b[0m \u001b[1;33m\u001b[0m\u001b[0m\n",
      "\u001b[1;31mAttributeError\u001b[0m: 'str' object has no attribute 'columns'"
     ]
    }
   ],
   "source": [
    "\n",
    "dataframe = pd.DataFrame.from_dict(quotetheme, orient='index')\n",
    "pd.DataFrame.to_csv('quotes.csv', encoding='utf-8', index=False)\n",
    "dataframe\n"
   ]
  },
  {
   "cell_type": "code",
   "execution_count": null,
   "metadata": {},
   "outputs": [],
   "source": []
  },
  {
   "cell_type": "code",
   "execution_count": null,
   "metadata": {},
   "outputs": [],
   "source": []
  }
 ],
 "metadata": {
  "kernelspec": {
   "display_name": "Python 3",
   "language": "python",
   "name": "python3"
  },
  "language_info": {
   "codemirror_mode": {
    "name": "ipython",
    "version": 3
   },
   "file_extension": ".py",
   "mimetype": "text/x-python",
   "name": "python",
   "nbconvert_exporter": "python",
   "pygments_lexer": "ipython3",
   "version": "3.6.5"
  }
 },
 "nbformat": 4,
 "nbformat_minor": 2
}
